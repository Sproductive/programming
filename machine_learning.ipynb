{
  "nbformat": 4,
  "nbformat_minor": 0,
  "metadata": {
    "colab": {
      "provenance": [],
      "authorship_tag": "ABX9TyO9+hOMwe84gVA74ahV7c35",
      "include_colab_link": true
    },
    "kernelspec": {
      "name": "python3",
      "display_name": "Python 3"
    },
    "language_info": {
      "name": "python"
    }
  },
  "cells": [
    {
      "cell_type": "markdown",
      "metadata": {
        "id": "view-in-github",
        "colab_type": "text"
      },
      "source": [
        "<a href=\"https://colab.research.google.com/github/Sproductive/programming/blob/main/machine_learning.ipynb\" target=\"_parent\"><img src=\"https://colab.research.google.com/assets/colab-badge.svg\" alt=\"Open In Colab\"/></a>"
      ]
    },
    {
      "cell_type": "code",
      "source": [
        "import numpy as np\n",
        "import pandas as pd\n",
        "import matplotlib.pyplot as plt\n",
        "from sklearn.preprocessing import StandardScaler\n",
        "from imblearn.over_sampling import RandomOverSampler\n",
        "\n",
        "cols = [\"fLength\", \"fWidth\", \"fSize\", \"fConc\", \"fConc1\", \"fAsym\", \"fM3Long\", \"fM3Trans\", \"fAlpha\", \"fDist\", \"class\" ]\n",
        "df = pd.read_csv(\"magic04.data\", names=cols)\n",
        "\n",
        "df[\"class\"] = (df[\"class\"] == \"g\").astype(int)\n",
        "# this is classsifying into g and h classes\n",
        "# print(df.head()) # shows only the first 5 elements\n",
        "for label in cols[:-1]:\n",
        "    plt.hist(df[df[\"class\"] == 1][label],color='blue', label='gamma', alpha=0.7, density=True)\n",
        "    plt.hist(df[df[\"class\"] == 0][label], color='red', label='hadron', alpha=0.7, density=True)\n",
        "    plt.title(label)\n",
        "    plt.ylabel(\"probability\")\n",
        "    plt.xlabel(label)\n",
        "    plt.legend()\n",
        "    plt.show()\n",
        "train, valid, test = np.split(df.sample(frac=1),[int(0.6*len(df)), int(0.8 * len(df))])\n",
        "# the split function takes 3 arguments 1st is the input array then is the sections or indices which will\n",
        "# be the second argument  in list format here we have 2 divistion indicating 3 part to split it in\n",
        "# sample will shuffle the data and it the fraction of the data you specify by frac\n",
        "# we also want to scale the data so that it's relative to the mean or the standard deviation of the specific column\n",
        "def scale_dataset(dataframe, oversample=False):\n",
        "  X = dataframe[dataframe.columns[:-1]].values # values of all upto the last one\n",
        "  y = dataframe[dataframe.columns[-1]].values  #value of the last one\n",
        "  scaler = StandardScaler()\n",
        "  # we need to transform or scale the data such that each column has a mean of 0 and a variance\n",
        "  #  of 1 then we can compare the data easily\n",
        "  X = scaler.fit_transform(X)\n",
        "  if oversample:\n",
        "    ros = RandomOverSampler()\n",
        "    X, y = ros.fit_resample(X,y)\n",
        "  data = np.hstack((X, np.reshape(y, (-1, 1))))\n",
        "  return data, X, y\n",
        "  # hstack -> take two data and stack them side by side horizantally\n",
        "  # but X is a 2d dataset adny is a 1d dataset so before staking them\n",
        "  # horizantally we need to reshaep y to a 2d array as we can't do this for a 1d array"
      ],
      "metadata": {
        "id": "s_Owa5oUYGs6"
      },
      "execution_count": null,
      "outputs": []
    },
    {
      "cell_type": "code",
      "source": [
        "print(len(train[train[\"class\"] == 1]))# checking lengh of training data where the class of the train dataset is 1\n",
        "print(len(train[train[\"class\"] == 0]))\n",
        "train, X_train, y_train = scale_dataset(train, oversample=True)\n",
        "# we do not need equal no.of data for 0 and 1 in testing as real world will be random\n",
        "valid, X_valid, y_valid = scale_dataset(valid, oversample=False)\n",
        "test, X_test, y_test = scale_dataset(test, oversample=False)\n",
        "\n",
        "\n",
        "# now as we did oversampling our train datas willl be same\n",
        "print(len(y_train))\n",
        "print(sum(y_train == 1))\n",
        "# find the no. of  where y_train where the values are 1\n",
        "print(sum(y_train == 0))"
      ],
      "metadata": {
        "colab": {
          "base_uri": "https://localhost:8080/"
        },
        "id": "dqHBENREYUgi",
        "outputId": "f1b4fac7-b688-4370-8d5c-0fb0edba96a6"
      },
      "execution_count": null,
      "outputs": [
        {
          "output_type": "stream",
          "name": "stdout",
          "text": [
            "7365\n",
            "4047\n",
            "14730\n",
            "7365\n",
            "7365\n"
          ]
        }
      ]
    },
    {
      "cell_type": "code",
      "source": [
        "from sklearn.neighbors import KNeighborsClassifier\n",
        "from sklearn.metrics import classification_report\n",
        "#this creates a kneighbors type model where the k = 1 means nearest neighbors taken into account is 1\n",
        "knn_model = KNeighborsClassifier(n_neighbors = 1)\n",
        "# fitting the x and y vectors and training the model\n",
        "knn_model.fit(X_train, y_train)\n",
        "# predicting based on the model created using the test database\n",
        "y_pred = knn_model.predict(X_test)\n",
        "#sending predicted results and comparing it with what resuults it shoudl not have\n",
        "print(classification_report(y_test, y_pred))\n",
        "print(y_pred)\n",
        "print(y_test)"
      ],
      "metadata": {
        "colab": {
          "base_uri": "https://localhost:8080/"
        },
        "id": "jXfdwsmLrNaL",
        "outputId": "abebb4e6-e2b9-4d93-d2b6-4b3b534288c6"
      },
      "execution_count": null,
      "outputs": [
        {
          "output_type": "stream",
          "name": "stdout",
          "text": [
            "              precision    recall  f1-score   support\n",
            "\n",
            "           0       0.77      0.67      0.72      1299\n",
            "           1       0.84      0.89      0.87      2505\n",
            "\n",
            "    accuracy                           0.82      3804\n",
            "   macro avg       0.80      0.78      0.79      3804\n",
            "weighted avg       0.82      0.82      0.82      3804\n",
            "\n",
            "[0 0 1 ... 0 1 1]\n",
            "[0 0 1 ... 1 1 1]\n"
          ]
        }
      ]
    }
  ]
}